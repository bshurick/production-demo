{
 "cells": [
  {
   "cell_type": "code",
   "execution_count": 1,
   "id": "e49c74ae",
   "metadata": {},
   "outputs": [],
   "source": [
    "# data\n",
    "import hashlib\n",
    "import pandas as pd\n",
    "import numpy as np\n",
    "\n",
    "# parameter tuning\n",
    "from sklearn.model_selection import TimeSeriesSplit, RandomizedSearchCV\n",
    "\n",
    "# model\n",
    "from sklearn.base import BaseEstimator, TransformerMixin\n",
    "from sklearn.pipeline import Pipeline\n",
    "from lightgbm import LGBMRegressor\n",
    "from joblib import dump, load\n",
    "\n",
    "# sampling\n",
    "from scipy.stats import uniform, randint\n",
    "\n",
    "# plots\n",
    "import matplotlib.pyplot as plt\n",
    "\n",
    "# custom objects \n",
    "from production_demo import (CategoriesTransformer, \n",
    "                             CATEGORIES, \n",
    "                             NUMERICS, \n",
    "                             OUTPUT)"
   ]
  },
  {
   "cell_type": "markdown",
   "id": "cab51592",
   "metadata": {},
   "source": [
    "### Dataprep"
   ]
  },
  {
   "cell_type": "code",
   "execution_count": 2,
   "id": "282caa1b",
   "metadata": {},
   "outputs": [],
   "source": [
    "train = pd.read_csv('../data/train.csv')\n",
    "\n",
    "# hasher \n",
    "hct = CategoriesTransformer(CATEGORIES)\n",
    "\n",
    "\n",
    "# prepare train/test splitting\n",
    "train.sort_values(by=['YrSold', 'MoSold'], \n",
    "                  inplace=True)\n",
    "tss = TimeSeriesSplit(n_splits=10)\n",
    "\n",
    "\n",
    "# parameter space\n",
    "param_distributions = dict(\n",
    "    LGBM__num_leaves=randint(1, 5000),\n",
    "    LGBM__max_depth=randint(1, 20),\n",
    "    LGBM__learning_rate=uniform(0.01, 0.9),\n",
    "    LGBM__n_estimators=randint(5, 1000),\n",
    "    LGBM__min_split_gain=uniform(0.0, 0.1),\n",
    "    LGBM__min_child_weight=uniform(0.0, 0.1),\n",
    "    LGBM__subsample=uniform(0.1, 0.9),\n",
    "    LGBM__colsample_bytree=uniform(0.1, 0.9),\n",
    "    LGBM__reg_alpha=uniform(0.0, 5000.0),\n",
    "    LGBM__reg_lambda=uniform(0.0, 5000.0),\n",
    ")"
   ]
  },
  {
   "cell_type": "markdown",
   "id": "90babc51",
   "metadata": {},
   "source": [
    "### Param tuning"
   ]
  },
  {
   "cell_type": "code",
   "execution_count": null,
   "id": "a6b63216",
   "metadata": {},
   "outputs": [],
   "source": [
    "model = Pipeline([\n",
    "    ('hash', hct),\n",
    "    ('LGBM', LGBMRegressor(random_state=22)),\n",
    "])\n",
    "rsv = RandomizedSearchCV(estimator=model,\n",
    "                         param_distributions=param_distributions,\n",
    "                         n_iter=1000,\n",
    "                         cv=tss,\n",
    "                         scoring='neg_root_mean_squared_error')\n",
    "_ = rsv.fit(train[NUMERICS + CATEGORIES], train[OUTPUT])"
   ]
  },
  {
   "cell_type": "code",
   "execution_count": null,
   "id": "ae3d1d50",
   "metadata": {},
   "outputs": [],
   "source": [
    "best_params_dict = rsv.best_params_\n",
    "\n",
    "print(f'Best params:\\n {best_params_dict}')\n",
    "print(f'\\nBest score:\\n {rsv.best_score_:.4f}')\n",
    "\n",
    "# save \n",
    "model = LGBMRegressor(**best_params_dict)"
   ]
  },
  {
   "cell_type": "markdown",
   "id": "8b7e83b3",
   "metadata": {},
   "source": [
    "## Train"
   ]
  },
  {
   "cell_type": "code",
   "execution_count": null,
   "id": "96424360",
   "metadata": {},
   "outputs": [],
   "source": [
    "model.fit(train[numerics], train[output])"
   ]
  },
  {
   "cell_type": "code",
   "execution_count": null,
   "id": "c5e14827",
   "metadata": {},
   "outputs": [],
   "source": [
    "#save model artifacts\n",
    "dump(model, '../data/trained_model')"
   ]
  },
  {
   "cell_type": "code",
   "execution_count": null,
   "id": "ab2a3953",
   "metadata": {},
   "outputs": [],
   "source": [
    "!ls ../data"
   ]
  }
 ],
 "metadata": {
  "kernelspec": {
   "display_name": "Python 3 (ipykernel)",
   "language": "python",
   "name": "python3"
  },
  "language_info": {
   "codemirror_mode": {
    "name": "ipython",
    "version": 3
   },
   "file_extension": ".py",
   "mimetype": "text/x-python",
   "name": "python",
   "nbconvert_exporter": "python",
   "pygments_lexer": "ipython3",
   "version": "3.9.10"
  }
 },
 "nbformat": 4,
 "nbformat_minor": 5
}
