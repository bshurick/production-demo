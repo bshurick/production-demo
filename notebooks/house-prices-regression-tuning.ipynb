{
 "cells": [
  {
   "cell_type": "markdown",
   "id": "19723847",
   "metadata": {},
   "source": [
    "# Production model example\n",
    "\n",
    "This uses a [Kaggle dataset](https://www.kaggle.com/c/house-prices-advanced-regression-techniques/data)\n",
    "to create a simple house price predictive model.\n",
    "\n",
    "To goal of this notebook is to come up with optimal LightGBM parameters to use for production model training."
   ]
  },
  {
   "cell_type": "code",
   "execution_count": 1,
   "id": "e49c74ae",
   "metadata": {},
   "outputs": [],
   "source": [
    "# data\n",
    "import hashlib\n",
    "import pandas as pd\n",
    "import numpy as np\n",
    "\n",
    "# parameter tuning\n",
    "from sklearn.model_selection import TimeSeriesSplit, RandomizedSearchCV\n",
    "\n",
    "# model\n",
    "from sklearn.pipeline import Pipeline\n",
    "from lightgbm import LGBMRegressor\n",
    "from joblib import dump\n",
    "\n",
    "# sampling\n",
    "from scipy.stats import uniform, randint\n",
    "\n",
    "# custom objects \n",
    "from production_demo import CategoriesTransformer, OUTPUT\n",
    "\n",
    "CATEGORIES = [\n",
    "    \"BldgType\",\n",
    "    \"CentralAir\",\n",
    "    \"Electrical\",\n",
    "    #\"ExterCond\",\n",
    "    #\"ExterQual\",\n",
    "    \"Fence\",\n",
    "    \"FireplaceQu\",\n",
    "    \"Foundation\",\n",
    "    \"Functional\",\n",
    "    #\"GarageCond\",\n",
    "   # \"GarageQual\",\n",
    "    \"GarageType\",\n",
    "    \"Heating\",\n",
    "    \"HeatingQC\",\n",
    "    \"HouseStyle\",\n",
    "    #\"KitchenQual\",\n",
    "    \"LotConfig\",\n",
    "    \"MasVnrType\",\n",
    "    \"MSSubClass\",\n",
    "    \"PavedDrive\",\n",
    "    \"RoofStyle\",\n",
    "]\n",
    "\n",
    "NUMERICS = [\n",
    "    \"1stFlrSF\",\n",
    "    \"2ndFlrSF\",\n",
    "    \"BedroomAbvGr\",\n",
    "    \"EnclosedPorch\",\n",
    "    \"Fireplaces\",\n",
    "    \"FullBath\",\n",
    "    \"GarageArea\",\n",
    "    \"GarageCars\",\n",
    "    \"GrLivArea\",\n",
    "    \"HalfBath\",\n",
    "    \"KitchenAbvGr\",\n",
    "    \"LotArea\",\n",
    "    \"OpenPorchSF\",\n",
    "    #\"OverallCond\",\n",
    "    #\"OverallQual\",\n",
    "    \"PoolArea\",\n",
    "    \"TotRmsAbvGrd\",\n",
    "    \"TotalBsmtSF\",\n",
    "    \"WoodDeckSF\",\n",
    "    \"YearBuilt\",\n",
    "    \"YearRemodAdd\",\n",
    "]"
   ]
  },
  {
   "cell_type": "markdown",
   "id": "cab51592",
   "metadata": {},
   "source": [
    "### Dataprep"
   ]
  },
  {
   "cell_type": "code",
   "execution_count": 16,
   "id": "5249d67d",
   "metadata": {},
   "outputs": [
    {
     "name": "stdout",
     "output_type": "stream",
     "text": [
      "(1460, 81)\n",
      "|    | BldgType   | CentralAir   | Electrical   |   Fence | FireplaceQu   |\n",
      "|---:|:-----------|:-------------|:-------------|--------:|:--------------|\n",
      "|  0 | 1Fam       | Y            | SBrkr        |     nan | nan           |\n",
      "|  1 | 1Fam       | Y            | SBrkr        |     nan | TA            |\n",
      "|  2 | 1Fam       | Y            | SBrkr        |     nan | TA            |\n",
      "|  3 | 1Fam       | Y            | SBrkr        |     nan | Gd            |\n",
      "|  4 | 1Fam       | Y            | SBrkr        |     nan | TA            |\n"
     ]
    }
   ],
   "source": [
    "train = pd.read_csv('../data/train.csv')\n",
    "print(train.shape)\n",
    "print(train[CATEGORIES[:5]].head().to_markdown())"
   ]
  },
  {
   "cell_type": "code",
   "execution_count": 3,
   "id": "282caa1b",
   "metadata": {},
   "outputs": [],
   "source": [
    "# hasher \n",
    "hct = CategoriesTransformer(CATEGORIES)\n",
    "\n",
    "\n",
    "# prepare train/test splitting\n",
    "train.sort_values(by=['YrSold', 'MoSold'], \n",
    "                  inplace=True)\n",
    "tss = TimeSeriesSplit(n_splits=5)\n",
    "\n",
    "\n",
    "# parameter space\n",
    "param_distributions = dict(\n",
    "    LGBM__num_leaves=randint(2, 5000),\n",
    "    LGBM__max_depth=randint(2, 20),\n",
    "    LGBM__learning_rate=uniform(0.01, 0.9),\n",
    "    LGBM__n_estimators=randint(5, 1000),\n",
    "    LGBM__min_split_gain=uniform(0.0, 0.1),\n",
    "    LGBM__min_child_weight=uniform(0.0, 0.1),\n",
    "    LGBM__subsample=uniform(0.1, 0.9),\n",
    "    LGBM__colsample_bytree=uniform(0.1, 0.9),\n",
    "    LGBM__reg_alpha=uniform(0.0, 5000.0),\n",
    "    LGBM__reg_lambda=uniform(0.0, 5000.0),\n",
    ")"
   ]
  },
  {
   "cell_type": "code",
   "execution_count": 15,
   "id": "f7392a5a",
   "metadata": {},
   "outputs": [
    {
     "name": "stdout",
     "output_type": "stream",
     "text": [
      "|    | BldgType   | CentralAir   | Electrical   |   Fence | FireplaceQu   |\n",
      "|---:|:-----------|:-------------|:-------------|--------:|:--------------|\n",
      "|  0 | 1Fam       | Y            | SBrkr        |     nan | nan           |\n",
      "|  1 | 1Fam       | Y            | SBrkr        |     nan | TA            |\n",
      "|  2 | 1Fam       | Y            | SBrkr        |     nan | TA            |\n",
      "|  3 | 1Fam       | Y            | SBrkr        |     nan | Gd            |\n",
      "|  4 | 1Fam       | Y            | SBrkr        |     nan | TA            |\n"
     ]
    }
   ],
   "source": [
    "print(train[CATEGORIES[:5]].head().to_markdown())"
   ]
  },
  {
   "cell_type": "markdown",
   "id": "fb26c26e",
   "metadata": {},
   "source": [
    "### Features subset\n",
    "\n",
    "We're subsetting features here based on what we will have **at time of prediction**; in other words, not all 80+ features from training are going to be available to us at prediction time, or we want to make it easier to fill out a form to on our web page to make a prediction. We are saying that we will only *require* the below features in order to make a prediction. "
   ]
  },
  {
   "cell_type": "code",
   "execution_count": 5,
   "id": "e78ff6b7",
   "metadata": {},
   "outputs": [
    {
     "name": "stdout",
     "output_type": "stream",
     "text": [
      "Categories used:\n",
      "['BldgType', 'CentralAir', 'Electrical', 'Fence', 'FireplaceQu', 'Foundation', 'Functional', 'GarageType', 'Heating', 'HeatingQC', 'HouseStyle', 'LotConfig', 'MasVnrType', 'MSSubClass', 'PavedDrive', 'RoofStyle']\n",
      "\n",
      "Numerics used:\n",
      "['1stFlrSF', '2ndFlrSF', 'BedroomAbvGr', 'EnclosedPorch', 'Fireplaces', 'FullBath', 'GarageArea', 'GarageCars', 'GrLivArea', 'HalfBath', 'KitchenAbvGr', 'LotArea', 'OpenPorchSF', 'PoolArea', 'TotRmsAbvGrd', 'TotalBsmtSF', 'WoodDeckSF', 'YearBuilt', 'YearRemodAdd']\n",
      "\n",
      " Total features used: 35\n"
     ]
    }
   ],
   "source": [
    "print(f'Categories used:\\n{CATEGORIES}')\n",
    "print(f'\\nNumerics used:\\n{NUMERICS}')\n",
    "print(f'\\n Total features used: {len(CATEGORIES) + len(NUMERICS)}')"
   ]
  },
  {
   "cell_type": "markdown",
   "id": "90babc51",
   "metadata": {},
   "source": [
    "### Parameter tuning"
   ]
  },
  {
   "cell_type": "code",
   "execution_count": 6,
   "id": "a6b63216",
   "metadata": {},
   "outputs": [
    {
     "name": "stderr",
     "output_type": "stream",
     "text": [
      "/Users/brandonshurick/ProdDemo/production-demo/lib/python3.9/site-packages/joblib/externals/loky/process_executor.py:702: UserWarning: A worker stopped while some jobs were given to the executor. This can be caused by a too short worker timeout or by a memory leak.\n",
      "  warnings.warn(\n"
     ]
    }
   ],
   "source": [
    "model = Pipeline([\n",
    "    ('hash', hct),\n",
    "    ('LGBM', LGBMRegressor(random_state=22)),\n",
    "])\n",
    "rsv = RandomizedSearchCV(estimator=model,\n",
    "                         param_distributions=param_distributions,\n",
    "                         n_iter=10000,\n",
    "                         cv=tss,\n",
    "                         n_jobs=-1,\n",
    "                         scoring='neg_mean_squared_log_error')\n",
    "_ = rsv.fit(train[NUMERICS + CATEGORIES], train[OUTPUT])"
   ]
  },
  {
   "cell_type": "code",
   "execution_count": 7,
   "id": "ae3d1d50",
   "metadata": {},
   "outputs": [
    {
     "name": "stdout",
     "output_type": "stream",
     "text": [
      "Best params:\n",
      " {'LGBM__colsample_bytree': 0.4364670911371453, 'LGBM__learning_rate': 0.769420294059774, 'LGBM__max_depth': 7, 'LGBM__min_child_weight': 0.01822587243541679, 'LGBM__min_split_gain': 0.03308747951729114, 'LGBM__n_estimators': 600, 'LGBM__num_leaves': 921, 'LGBM__reg_alpha': 286.5027269365633, 'LGBM__reg_lambda': 2429.7823135073622, 'LGBM__subsample': 0.7760855497537651}\n",
      "\n",
      "Best score:\n",
      " -0.0278\n"
     ]
    }
   ],
   "source": [
    "best_params_dict = rsv.best_params_\n",
    "\n",
    "print(f'Best params:\\n {best_params_dict}')\n",
    "print(f'\\nBest score:\\n {rsv.best_score_:.4f}')\n",
    "\n",
    "# save \n",
    "model = LGBMRegressor(**best_params_dict)"
   ]
  },
  {
   "cell_type": "markdown",
   "id": "8b7e83b3",
   "metadata": {},
   "source": [
    "## Train"
   ]
  },
  {
   "cell_type": "code",
   "execution_count": 8,
   "id": "96424360",
   "metadata": {},
   "outputs": [
    {
     "data": {
      "text/plain": [
       "LGBMRegressor(LGBM__colsample_bytree=0.4364670911371453,\n",
       "              LGBM__learning_rate=0.769420294059774, LGBM__max_depth=7,\n",
       "              LGBM__min_child_weight=0.01822587243541679,\n",
       "              LGBM__min_split_gain=0.03308747951729114, LGBM__n_estimators=600,\n",
       "              LGBM__num_leaves=921, LGBM__reg_alpha=286.5027269365633,\n",
       "              LGBM__reg_lambda=2429.7823135073622,\n",
       "              LGBM__subsample=0.7760855497537651)"
      ]
     },
     "execution_count": 8,
     "metadata": {},
     "output_type": "execute_result"
    }
   ],
   "source": [
    "model.fit(train[NUMERICS], train[OUTPUT])"
   ]
  },
  {
   "cell_type": "code",
   "execution_count": 9,
   "id": "c5e14827",
   "metadata": {},
   "outputs": [
    {
     "data": {
      "text/plain": [
       "['../data/trained_model']"
      ]
     },
     "execution_count": 9,
     "metadata": {},
     "output_type": "execute_result"
    }
   ],
   "source": [
    "#save model artifacts\n",
    "dump(model, '../data/trained_model')"
   ]
  }
 ],
 "metadata": {
  "kernelspec": {
   "display_name": "Python 3 (ipykernel)",
   "language": "python",
   "name": "python3"
  },
  "language_info": {
   "codemirror_mode": {
    "name": "ipython",
    "version": 3
   },
   "file_extension": ".py",
   "mimetype": "text/x-python",
   "name": "python",
   "nbconvert_exporter": "python",
   "pygments_lexer": "ipython3",
   "version": "3.9.10"
  }
 },
 "nbformat": 4,
 "nbformat_minor": 5
}
