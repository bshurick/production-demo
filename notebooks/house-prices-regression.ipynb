{
 "cells": [
  {
   "cell_type": "code",
   "execution_count": 43,
   "id": "e49c74ae",
   "metadata": {},
   "outputs": [],
   "source": [
    "# data\n",
    "import hashlib\n",
    "import pandas as pd\n",
    "import numpy as np\n",
    "\n",
    "# parameter tuning\n",
    "from sklearn.model_selection import TimeSeriesSplit, RandomizedSearchCV\n",
    "\n",
    "# model\n",
    "from sklearn.base import BaseEstimator, TransformerMixin\n",
    "from sklearn.pipeline import Pipeline\n",
    "from lightgbm import LGBMRegressor\n",
    "from joblib import dump, load\n",
    "\n",
    "# sampling\n",
    "from scipy.stats import uniform, randint\n",
    "\n",
    "# plots\n",
    "import matplotlib.pyplot as plt\n",
    "\n",
    "\n",
    "# custom transformer for categories\n",
    "class CategoriesTransformer(BaseEstimator, TransformerMixin):\n",
    "   \n",
    "    @staticmethod\n",
    "    def hash_col(x, n_buckets=100000):\n",
    "        return int(hashlib.md5(x.encode('utf-8')).hexdigest(), 16) % n_buckets\n",
    "    \n",
    "    def __init__(self, category_cols: list):\n",
    "        self.category_cols = category_cols\n",
    "        \n",
    "    def fit(self, X, y=None):\n",
    "        return self\n",
    "    \n",
    "    def transform(self, X):\n",
    "        _X = X.copy()\n",
    "        for c in self.category_cols:\n",
    "            _X[c].fillna('', inplace=True)\n",
    "            _X[c] = _X[c].apply(self.hash_col)\n",
    "        return _X"
   ]
  },
  {
   "cell_type": "markdown",
   "id": "0ea50b49",
   "metadata": {},
   "source": [
    "### Dataprep"
   ]
  },
  {
   "cell_type": "code",
   "execution_count": 36,
   "id": "282caa1b",
   "metadata": {},
   "outputs": [],
   "source": [
    "train = pd.read_csv('../data/train.csv')\n",
    "\n",
    "\n",
    "# select model columns\n",
    "id_col = 'Id'\n",
    "output = 'SalePrice'\n",
    "numerics = [col for col in train.select_dtypes(np.number).columns \n",
    "            if col not in [id_col, output]]\n",
    "categories = [col for col in train.select_dtypes('object').columns \n",
    "              if col not in [id_col, output]]\n",
    "\n",
    "# hasher \n",
    "hct = CategoriesTransformer(categories)\n",
    "\n",
    "\n",
    "# prepare train/test splitting\n",
    "train.sort_values(by=['YrSold', 'MoSold'], \n",
    "                  inplace=True)\n",
    "tss = TimeSeriesSplit(n_splits=10)\n",
    "\n",
    "\n",
    "# parameter space\n",
    "param_distributions = dict(\n",
    "    LGBM__num_leaves=randint(1, 5000),\n",
    "    LGBM__max_depth=randint(1, 20),\n",
    "    LGBM__learning_rate=uniform(0.01, 0.9),\n",
    "    LGBM__n_estimators=randint(5, 1000),\n",
    "    LGBM__min_split_gain=uniform(0.0, 0.1),\n",
    "    LGBM__min_child_weight=uniform(0.0, 0.1),\n",
    "    LGBM__subsample=uniform(0.1, 0.9),\n",
    "    LGBM__colsample_bytree=uniform(0.1, 0.9),\n",
    "    LGBM__reg_alpha=uniform(0.0, 5000.0),\n",
    "    LGBM__reg_lambda=uniform(0.0, 5000.0),\n",
    ")"
   ]
  },
  {
   "cell_type": "markdown",
   "id": "1000b6fd",
   "metadata": {},
   "source": [
    "### Param tuning"
   ]
  },
  {
   "cell_type": "code",
   "execution_count": 37,
   "id": "a6b63216",
   "metadata": {},
   "outputs": [],
   "source": [
    "model = Pipeline([\n",
    "    ('hash', hct),\n",
    "    ('LGBM', LGBMRegressor(random_state=22)),\n",
    "])\n",
    "rsv = RandomizedSearchCV(estimator=model,\n",
    "                         param_distributions=param_distributions,\n",
    "                         n_iter=1000,\n",
    "                         cv=tss,\n",
    "                         scoring='neg_root_mean_squared_error')\n",
    "_ = rsv.fit(train[numerics + categories], train[output])"
   ]
  },
  {
   "cell_type": "code",
   "execution_count": 42,
   "id": "ae3d1d50",
   "metadata": {},
   "outputs": [
    {
     "name": "stdout",
     "output_type": "stream",
     "text": [
      "Best params:\n",
      " {'LGBM__colsample_bytree': 0.8685719758524428, 'LGBM__learning_rate': 0.33499835398126054, 'LGBM__max_depth': 7, 'LGBM__min_child_weight': 0.07068004740299694, 'LGBM__min_split_gain': 0.005588798461702771, 'LGBM__n_estimators': 340, 'LGBM__num_leaves': 4347, 'LGBM__reg_alpha': 3005.024914825045, 'LGBM__reg_lambda': 630.1026891579231, 'LGBM__subsample': 0.679306453679}\n",
      "\n",
      "Best score:\n",
      " -32469.1114\n"
     ]
    }
   ],
   "source": [
    "best_params_dict = rsv.best_params_\n",
    "\n",
    "print(f'Best params:\\n {best_params_dict}')\n",
    "print(f'\\nBest score:\\n {rsv.best_score_:.4f}')\n",
    "model = LGBMRegressor(**best_params_dict)"
   ]
  },
  {
   "cell_type": "markdown",
   "id": "0031efff",
   "metadata": {},
   "source": [
    "## Train"
   ]
  },
  {
   "cell_type": "code",
   "execution_count": 6,
   "id": "96424360",
   "metadata": {},
   "outputs": [
    {
     "data": {
      "text/plain": [
       "LGBMRegressor(colsample_bytree=0.43404383476519925,\n",
       "              learning_rate=0.6002751670184332, max_depth=17,\n",
       "              min_child_weight=0.09430695805945778,\n",
       "              min_split_gain=0.03343934541272591, n_estimators=512,\n",
       "              num_leaves=4041, reg_alpha=4509.109769176171,\n",
       "              reg_lambda=2153.583334081084, subsample=0.5595154003163686)"
      ]
     },
     "execution_count": 6,
     "metadata": {},
     "output_type": "execute_result"
    }
   ],
   "source": [
    "model.fit(train[numerics], train[output])"
   ]
  },
  {
   "cell_type": "code",
   "execution_count": 44,
   "id": "0e2b9816",
   "metadata": {},
   "outputs": [
    {
     "data": {
      "text/plain": [
       "['../data/trained_model']"
      ]
     },
     "execution_count": 44,
     "metadata": {},
     "output_type": "execute_result"
    }
   ],
   "source": [
    "#save model artifacts\n",
    "dump(model, '../data/trained_model')"
   ]
  },
  {
   "cell_type": "code",
   "execution_count": 45,
   "id": "b66efa79",
   "metadata": {},
   "outputs": [
    {
     "name": "stdout",
     "output_type": "stream",
     "text": [
      "data_description.txt  test.csv              trained_model\r\n",
      "sample_submission.csv train.csv\r\n"
     ]
    }
   ],
   "source": [
    "!ls ../data"
   ]
  },
  {
   "cell_type": "code",
   "execution_count": null,
   "id": "60b52638",
   "metadata": {},
   "outputs": [],
   "source": []
  }
 ],
 "metadata": {
  "kernelspec": {
   "display_name": "Python 3 (ipykernel)",
   "language": "python",
   "name": "python3"
  },
  "language_info": {
   "codemirror_mode": {
    "name": "ipython",
    "version": 3
   },
   "file_extension": ".py",
   "mimetype": "text/x-python",
   "name": "python",
   "nbconvert_exporter": "python",
   "pygments_lexer": "ipython3",
   "version": "3.9.10"
  }
 },
 "nbformat": 4,
 "nbformat_minor": 5
}
