{
 "cells": [
  {
   "cell_type": "code",
   "execution_count": 1,
   "id": "e49c74ae",
   "metadata": {},
   "outputs": [
    {
     "ename": "ModuleNotFoundError",
     "evalue": "No module named 'production_demo'",
     "output_type": "error",
     "traceback": [
      "\u001b[0;31m---------------------------------------------------------------------------\u001b[0m",
      "\u001b[0;31mModuleNotFoundError\u001b[0m                       Traceback (most recent call last)",
      "Input \u001b[0;32mIn [1]\u001b[0m, in \u001b[0;36m<cell line: 22>\u001b[0;34m()\u001b[0m\n\u001b[1;32m     19\u001b[0m \u001b[38;5;28;01mimport\u001b[39;00m \u001b[38;5;21;01mmatplotlib\u001b[39;00m\u001b[38;5;21;01m.\u001b[39;00m\u001b[38;5;21;01mpyplot\u001b[39;00m \u001b[38;5;28;01mas\u001b[39;00m \u001b[38;5;21;01mplt\u001b[39;00m\n\u001b[1;32m     21\u001b[0m \u001b[38;5;66;03m# custom objects \u001b[39;00m\n\u001b[0;32m---> 22\u001b[0m \u001b[38;5;28;01mfrom\u001b[39;00m \u001b[38;5;21;01mproduction_demo\u001b[39;00m \u001b[38;5;28;01mimport\u001b[39;00m CategoriesTransformer\n",
      "\u001b[0;31mModuleNotFoundError\u001b[0m: No module named 'production_demo'"
     ]
    }
   ],
   "source": [
    "# data\n",
    "import hashlib\n",
    "import pandas as pd\n",
    "import numpy as np\n",
    "\n",
    "# parameter tuning\n",
    "from sklearn.model_selection import TimeSeriesSplit, RandomizedSearchCV\n",
    "\n",
    "# model\n",
    "from sklearn.base import BaseEstimator, TransformerMixin\n",
    "from sklearn.pipeline import Pipeline\n",
    "from lightgbm import LGBMRegressor\n",
    "from joblib import dump, load\n",
    "\n",
    "# sampling\n",
    "from scipy.stats import uniform, randint\n",
    "\n",
    "# plots\n",
    "import matplotlib.pyplot as plt\n",
    "\n",
    "# custom objects \n",
    "from production_demo import CategoriesTransformer "
   ]
  },
  {
   "cell_type": "markdown",
   "id": "cab51592",
   "metadata": {},
   "source": [
    "### Dataprep"
   ]
  },
  {
   "cell_type": "code",
   "execution_count": null,
   "id": "282caa1b",
   "metadata": {},
   "outputs": [],
   "source": [
    "train = pd.read_csv('../data/train.csv')\n",
    "\n",
    "\n",
    "# select model columns\n",
    "id_col = 'Id'\n",
    "output = 'SalePrice'\n",
    "numerics = [col for col in train.select_dtypes(np.number).columns \n",
    "            if col not in [id_col, output]]\n",
    "categories = [col for col in train.select_dtypes('object').columns \n",
    "              if col not in [id_col, output]]\n",
    "\n",
    "\n",
    "# hasher \n",
    "hct = CategoriesTransformer(categories)\n",
    "\n",
    "\n",
    "# prepare train/test splitting\n",
    "train.sort_values(by=['YrSold', 'MoSold'], \n",
    "                  inplace=True)\n",
    "tss = TimeSeriesSplit(n_splits=10)\n",
    "\n",
    "\n",
    "# parameter space\n",
    "param_distributions = dict(\n",
    "    LGBM__num_leaves=randint(1, 5000),\n",
    "    LGBM__max_depth=randint(1, 20),\n",
    "    LGBM__learning_rate=uniform(0.01, 0.9),\n",
    "    LGBM__n_estimators=randint(5, 1000),\n",
    "    LGBM__min_split_gain=uniform(0.0, 0.1),\n",
    "    LGBM__min_child_weight=uniform(0.0, 0.1),\n",
    "    LGBM__subsample=uniform(0.1, 0.9),\n",
    "    LGBM__colsample_bytree=uniform(0.1, 0.9),\n",
    "    LGBM__reg_alpha=uniform(0.0, 5000.0),\n",
    "    LGBM__reg_lambda=uniform(0.0, 5000.0),\n",
    ")"
   ]
  },
  {
   "cell_type": "markdown",
   "id": "90babc51",
   "metadata": {},
   "source": [
    "### Param tuning"
   ]
  },
  {
   "cell_type": "code",
   "execution_count": null,
   "id": "a6b63216",
   "metadata": {},
   "outputs": [],
   "source": [
    "model = Pipeline([\n",
    "    ('hash', hct),\n",
    "    ('LGBM', LGBMRegressor(random_state=22)),\n",
    "])\n",
    "rsv = RandomizedSearchCV(estimator=model,\n",
    "                         param_distributions=param_distributions,\n",
    "                         n_iter=1000,\n",
    "                         cv=tss,\n",
    "                         scoring='neg_root_mean_squared_error')\n",
    "_ = rsv.fit(train[numerics + categories], train[output])"
   ]
  },
  {
   "cell_type": "code",
   "execution_count": null,
   "id": "ae3d1d50",
   "metadata": {},
   "outputs": [],
   "source": [
    "best_params_dict = rsv.best_params_\n",
    "\n",
    "print(f'Best params:\\n {best_params_dict}')\n",
    "print(f'\\nBest score:\\n {rsv.best_score_:.4f}')\n",
    "model = LGBMRegressor(**best_params_dict)"
   ]
  },
  {
   "cell_type": "markdown",
   "id": "8b7e83b3",
   "metadata": {},
   "source": [
    "## Train"
   ]
  },
  {
   "cell_type": "code",
   "execution_count": null,
   "id": "96424360",
   "metadata": {},
   "outputs": [],
   "source": [
    "model.fit(train[numerics], train[output])"
   ]
  },
  {
   "cell_type": "code",
   "execution_count": null,
   "id": "c5e14827",
   "metadata": {},
   "outputs": [],
   "source": [
    "#save model artifacts\n",
    "dump(model, '../data/trained_model')"
   ]
  },
  {
   "cell_type": "code",
   "execution_count": null,
   "id": "ab2a3953",
   "metadata": {},
   "outputs": [],
   "source": [
    "!ls ../data"
   ]
  },
  {
   "cell_type": "code",
   "execution_count": null,
   "id": "73d69ca6",
   "metadata": {},
   "outputs": [],
   "source": []
  }
 ],
 "metadata": {
  "kernelspec": {
   "display_name": "Python 3 (ipykernel)",
   "language": "python",
   "name": "python3"
  },
  "language_info": {
   "codemirror_mode": {
    "name": "ipython",
    "version": 3
   },
   "file_extension": ".py",
   "mimetype": "text/x-python",
   "name": "python",
   "nbconvert_exporter": "python",
   "pygments_lexer": "ipython3",
   "version": "3.9.10"
  }
 },
 "nbformat": 4,
 "nbformat_minor": 5
}
